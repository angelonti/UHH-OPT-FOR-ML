{
 "cells": [
  {
   "cell_type": "markdown",
   "id": "bc565ac7-a7cb-43aa-8e7b-7cd17901667f",
   "metadata": {},
   "source": [
    "# Exercise sheet 6\n",
    "\n",
    "**Please turn in your exercises by December 19th.**"
   ]
  },
  {
   "cell_type": "markdown",
   "id": "9e871567-aaa4-4bc9-809f-92536d8a061c",
   "metadata": {},
   "source": [
    "## Task 1: Correction pairs\n",
    "\n",
    "Let $f \\in \\mathcal{S}_{\\mu, L}$\n",
    "\n",
    "Prove $y_t^\\top s_t > $ if $x_t \\neq x_{t-1}$.\n",
    "\n",
    "Provide another function $f\\colon \\mathbb{R} \\to \\mathbb{R}$ such that $f'(0) = 0$ and $f'(1) = -1/4$ where $y_t^\\top s_t > 0$ does not hold.\n",
    "\n"
   ]
  },
  {
   "cell_type": "markdown",
   "id": "55443425-346d-44f0-a68d-0c11611c5dc3",
   "metadata": {},
   "source": [
    "## Task 2: DFP update rule\n",
    "\n",
    "Consider the DFP method.\n",
    "\n",
    "Use the Sherman-Morrison-Woodbury formula on the hessian $B_t$ to derive the inverse of the hessian $H_t$."
   ]
  },
  {
   "cell_type": "markdown",
   "id": "30880ba4-d7e9-4d49-b6d6-1d27e8001b70",
   "metadata": {},
   "source": [
    "## Task 3: BFGS update rule\n",
    "\n",
    "Consider the BFGS method.\n",
    "\n",
    "Use the Sherman-Morrison-Woodbury formula on the inverse of the hessian $H_t$ to derive the hessian $B_t$."
   ]
  },
  {
   "cell_type": "markdown",
   "id": "3884cb62-2014-43c0-8050-4c22cd19f75d",
   "metadata": {},
   "source": [
    "## Task 4: Convergence\n",
    "\n",
    "Prove the convergence of the DFP and BFGS methods."
   ]
  },
  {
   "cell_type": "markdown",
   "id": "5d31b735-7a43-48e7-895f-6ac3467931e7",
   "metadata": {
    "jp-MarkdownHeadingCollapsed": true
   },
   "source": [
    "## Utilities"
   ]
  },
  {
   "cell_type": "code",
   "execution_count": null,
   "id": "5b3ab7ff-2090-4470-9bf5-6eff31c862a0",
   "metadata": {},
   "outputs": [],
   "source": [
    "import numpy as np\n",
    "import matplotlib.pyplot as plt\n",
    "from mpl_toolkits.mplot3d import Axes3D\n",
    "from matplotlib import cm"
   ]
  },
  {
   "cell_type": "code",
   "execution_count": null,
   "id": "0526ec1b-fb2c-4e29-8c47-a07b6609fb5d",
   "metadata": {},
   "outputs": [],
   "source": [
    "def contour_map(f, xb=(-1,1), yb=(-1,1), ax=None):\n",
    "    if ax is None:\n",
    "        ax = plt\n",
    "    (nx, ny) = (45, 45)\n",
    "    x = np.linspace(*xb, nx)\n",
    "    y = np.linspace(*yb, ny)\n",
    "    xv, yv = np.meshgrid(x, y)\n",
    "    X = np.block([ [xv.reshape(1, -1)], [yv.reshape(1, -1)] ]).T\n",
    "    zv = np.fromiter((f(x) for x in X), dtype=np.double)\n",
    "    zv = zv.reshape(nx,ny)\n",
    "    ax.contour(xv, yv, zv, 15)\n",
    "\n",
    "def surface_plot(f, xb=(-1,1), yb=(-1,1)):\n",
    "    (nx, ny) = (45, 45)\n",
    "    fig = plt.figure()\n",
    "    ax = fig.add_subplot(111, projection='3d')\n",
    "    x = np.linspace(*xb, nx)\n",
    "    y = np.linspace(*yb, ny)\n",
    "    xv, yv = np.meshgrid(x, y)\n",
    "    X = np.block([ [xv.reshape(1, -1)], [yv.reshape(1, -1)] ]).T\n",
    "    zv = np.fromiter((f(x) for x in X), dtype=np.double)\n",
    "    zv = zv.reshape(nx,ny)\n",
    "    ax.plot_surface(xv, yv, zv, cmap=cm.coolwarm)\n",
    "    return fig, ax"
   ]
  },
  {
   "cell_type": "code",
   "execution_count": null,
   "id": "f4139b34-74b0-4c7b-8094-9fe78ede4fa3",
   "metadata": {},
   "outputs": [],
   "source": [
    "def backtracking_line_search(x, d, f, g, alpha=0.3, beta=0.8):\n",
    "    step_size = 1.\n",
    "    while f(x + step_size * d) > f(x) + alpha * step_size * g(x).dot(d):\n",
    "        step_size *= beta\n",
    "    return step_size\n",
    "\n",
    "def backtracking_line_search_nag(x, d, f, g, alpha=1., beta=0.8):\n",
    "    t = 1\n",
    "    while f(x + t*d) > f(x) + alpha * t * np.dot(g(x), d) + t/2*np.dot(d, d):\n",
    "        t *= beta\n",
    "    return t\n"
   ]
  },
  {
   "cell_type": "code",
   "execution_count": null,
   "id": "a3f0355c-8e11-435a-b4f6-5c4253fd95ee",
   "metadata": {},
   "outputs": [],
   "source": [
    "def gradient_descent_path(x0, f, g, max_iter=100):\n",
    "    xs = [x0]\n",
    "    for _ in range(max_iter):\n",
    "        step = backtracking_line_search(x0, -g(x0), f, g)\n",
    "        x0 = x0 - step * g(x0)\n",
    "        xs.append(x0)\n",
    "    return xs\n",
    "\n",
    "def heavy_ball_path(x0, f, g, max_iter=100):\n",
    "    xs = [x0]\n",
    "    x_old = x0\n",
    "    for i in range(1, max_iter+1):\n",
    "        d = -g(x0) + (i-1)/(i+1) *  (x0-x_old)\n",
    "        x_old = x0\n",
    "        t = backtracking_line_search_nag(x0, d, f, g)\n",
    "        x0 = x0 + t * d\n",
    "        xs.append(x0)\n",
    "    return xs\n",
    "\n",
    "def nag_path(x0, f, g, max_iter=100):\n",
    "    xs = [x0]\n",
    "    x_old = x0\n",
    "    for i in range(1, max_iter+1, 1):\n",
    "        y = x0 + (i-1)/(i+2) *  (x0-x_old)\n",
    "        x_old = x0\n",
    "        t = backtracking_line_search_nag(y, -g(y), f, g)\n",
    "        x0 = y - t * g(y)\n",
    "        xs.append(x0)\n",
    "    return np.array(xs)\n",
    "\n",
    "def newtons_method_path(x0, f, g, h, max_iter=100):\n",
    "    xs = [x0]\n",
    "    for _ in range(max_iter):\n",
    "        p = np.linalg.solve(h(x0), g(x0))\n",
    "        step = backtracking_line_search(x0, -p, f, g)\n",
    "        x0 = x0 - step * p\n",
    "        xs.append(x0)\n",
    "    return xs"
   ]
  },
  {
   "cell_type": "code",
   "execution_count": null,
   "id": "5816f59c-9dba-4f72-a144-271e5152046c",
   "metadata": {},
   "outputs": [],
   "source": [
    "EXA = np.array([[30., 15],[-20, 25]])/20\n",
    "\n",
    "EXAMPLES = [\n",
    "    (lambda x: x.T@EXA@x + 1, lambda x: (EXA+EXA.T)@x, lambda x: (EXA+EXA.T), 0.5 * np.ones(2), (-1.,1.), (-1.,1.)),\n",
    "    (lambda x: (x[0]**2 + 30 * x[1]**2 + 4 * x[0]), lambda x: np.array([2 * x[0] + 4, 60 * x[1]]), lambda x: np.array([[2, 0],[0, 60]]), np.array([2.,3.]), (-2.5,2.5), (-1.5,3.5)),\n",
    "    (lambda x: np.linalg.norm(np.sin(x*3))**2, lambda x: 6 * np.sin(x*3) * np.cos(x*3), lambda x: 18 * np.diag(2 * np.cos(3*x)**2 - 1), np.array([.2,.15]), (-.5, .5), (-.5,.5))\n",
    "]\n",
    "\n",
    "def run_examples_dfp():\n",
    "    for (f, g, h, x0, xb, yb) in EXAMPLES:\n",
    "        xs2 = dfp_path(x0, f, g)\n",
    "        xs2 = np.array(xs2)\n",
    "        \n",
    "        xs = gradient_descent_path(x0, f, g)\n",
    "        xs = np.array(xs)\n",
    "\n",
    "        contour_map(f, xb=xb, yb=yb)\n",
    "        plt.plot(xs2[:,0], xs2[:,1], '.--k', label='newtons method')\n",
    "        plt.plot(xs[:,0], xs[:,1], '.--', color='gray', alpha=.5, label='gradient descent')\n",
    "        plt.legend()\n",
    "        plt.show()\n",
    "        \n",
    "def run_examples_bfgs():\n",
    "    for (f, g, h, x0, xb, yb) in EXAMPLES:\n",
    "        xs2 = bfgs_path(x0, f, g)\n",
    "        xs2 = np.array(xs2)\n",
    "        \n",
    "        xs = gradient_descent_path(x0, f, g)\n",
    "        xs = np.array(xs)\n",
    "\n",
    "        contour_map(f, xb=xb, yb=yb)\n",
    "        plt.plot(xs2[:,0], xs2[:,1], '.--k', label='newtons method')\n",
    "        plt.plot(xs[:,0], xs[:,1], '.--', color='gray', alpha=.5, label='gradient descent')\n",
    "        plt.legend()\n",
    "        plt.show()"
   ]
  },
  {
   "cell_type": "markdown",
   "id": "1dc3173a-453d-48fa-b0c0-8fddb861481c",
   "metadata": {},
   "source": [
    "## Task 5: DFP method\n",
    "\n",
    "Implement the DFP method using the above provided backtracking line search.\n",
    "* `x0` is the initial point.\n",
    "* `f` is the function you are trying to minimize.\n",
    "* `g` is the gradient of `f`.\n",
    "\n",
    "Function `dfp_path` should return a list of vectors on the path to the minimum."
   ]
  },
  {
   "cell_type": "code",
   "execution_count": null,
   "id": "cfe6a515-7830-4816-8a43-c216f8b4294b",
   "metadata": {},
   "outputs": [],
   "source": [
    "def dfp_path(x0, f, g, max_iter=100):\n",
    "    return ..."
   ]
  },
  {
   "cell_type": "code",
   "execution_count": null,
   "id": "87802424-9573-4cea-9db8-1a3317ab5ea1",
   "metadata": {},
   "outputs": [],
   "source": [
    "# run this to get plots\n",
    "run_examples_dfp()"
   ]
  },
  {
   "cell_type": "markdown",
   "id": "ea0e5872-402c-45c2-b9f0-08aa2cbcb718",
   "metadata": {},
   "source": [
    "## Task 6: BFGS method\n",
    "\n",
    "Implement the BFGS method using the above provided backtracking line search.\n",
    "* `x0` is the initial point.\n",
    "* `f` is the function you are trying to minimize.\n",
    "* `g` is the gradient of `f`.\n",
    "\n",
    "Function `bfgs_path` should return a list of vectors on the path to the minimum."
   ]
  },
  {
   "cell_type": "code",
   "execution_count": null,
   "id": "826621a3-fb82-4d1c-949f-509d2a7abc5c",
   "metadata": {},
   "outputs": [],
   "source": [
    "def bfgs_path(x0, f, g, max_iter=100):\n",
    "    return ..."
   ]
  },
  {
   "cell_type": "code",
   "execution_count": null,
   "id": "8aefadc4-6bc2-4837-99e4-086085fe0de0",
   "metadata": {},
   "outputs": [],
   "source": [
    "# run this to get plots\n",
    "run_examples_bfgs()"
   ]
  },
  {
   "cell_type": "markdown",
   "id": "a81a9ce0-1a09-45e0-953e-6836a52c8474",
   "metadata": {},
   "source": [
    "## Task 7: Error plots\n",
    "\n",
    "Then compare and plot the error over time for the five methods on the following tasks.\n",
    "Implementations of the prior methods are given in the Utils section."
   ]
  },
  {
   "cell_type": "markdown",
   "id": "2b032adb-e1c2-4d0f-a258-d0ba56ee3e28",
   "metadata": {},
   "source": [
    "### Simple quadratic function"
   ]
  },
  {
   "cell_type": "code",
   "execution_count": null,
   "id": "952d75b4-4dca-41eb-b2ac-55144aa0126c",
   "metadata": {},
   "outputs": [],
   "source": [
    "def f(x):\n",
    "    return x[0]**2 + 30 * x[1]**2 + 4 * x[0]\n",
    "def g(x):\n",
    "    return np.array([2 * x[0] + 4, 60 * x[1]])\n",
    "def h(x):\n",
    "    return np.array([[2., 0], [0, 60]])\n",
    "\n",
    "x0 = np.array([2.,3.])\n",
    "\n",
    "x_star = np.array([-2.,0.])\n",
    "..."
   ]
  },
  {
   "cell_type": "markdown",
   "id": "510aa632-0b89-449f-a81b-5d38eec3e2be",
   "metadata": {},
   "source": [
    "### Linear regression"
   ]
  },
  {
   "cell_type": "code",
   "execution_count": null,
   "id": "d4e9e1b6-a8e4-42f8-80c2-2661b099f92d",
   "metadata": {},
   "outputs": [],
   "source": [
    "from sklearn.datasets import make_regression\n",
    "\n",
    "def f(w):\n",
    "    return np.linalg.norm(X @ w - y) ** 2 / len(X)\n",
    "\n",
    "def g(w):\n",
    "    return 2 * X.T @ (X @ w - y) / len(X)\n",
    "\n",
    "def h(w):\n",
    "    return 2 * X.T @ X / len(X)\n",
    "\n",
    "X, y = make_regression(n_samples=1000, n_features=100, n_informative=40, random_state=0)\n",
    "x0 = np.zeros(100)\n",
    "\n",
    "x_star = np.linalg.lstsq(X, y, rcond=None)[0]\n",
    "..."
   ]
  },
  {
   "cell_type": "markdown",
   "id": "0104abd0-5728-4b25-ada7-3c574379f339",
   "metadata": {},
   "source": [
    "### Logistic regression\n"
   ]
  },
  {
   "cell_type": "code",
   "execution_count": null,
   "id": "5dacc5fb-e053-4704-9634-ffe60ee42186",
   "metadata": {},
   "outputs": [],
   "source": [
    "from sklearn.datasets import make_classification\n",
    "from scipy.optimize import minimize\n",
    "\n",
    "def f(w):\n",
    "    return np.log(1. + np.exp(-y * X.dot(w))).mean() + np.linalg.norm(w)**2\n",
    "\n",
    "def g(w):\n",
    "    sig = np.exp(-y * X.dot(w))\n",
    "    return 2*w - X.T.dot(sig * y / (sig + 1.)) / X.shape[0]\n",
    "\n",
    "def h(w):\n",
    "    X_rows, w_rows = X.shape\n",
    "    t_0 = np.exp(-(y * (X).dot(w)))\n",
    "    t_1 = (t_0 * y)\n",
    "    t_2 = (np.ones(X_rows) + t_0)\n",
    "    hess = ((2 * np.eye(w_rows, w_rows)) - 1 / X_rows * ((((((t_1 * t_0) * y) / (t_2 * t_2))[:, np.newaxis] * X).T).dot(X) - (((((y * t_0) * y) / t_2)[:, np.newaxis] * X).T).dot(X)))\n",
    "    return hess\n",
    "\n",
    "X, y = make_classification(1000, 80, n_informative=40,\n",
    "#                               n_redundant=0,\n",
    "                               n_clusters_per_class=2, flip_y=0.1, random_state=0)\n",
    "\n",
    "x0 = np.zeros(80)\n",
    "x_star = minimize(f, x0, jac=g).x\n",
    "..."
   ]
  }
 ],
 "metadata": {
  "kernelspec": {
   "display_name": "Python 3 (ipykernel)",
   "language": "python",
   "name": "python3"
  },
  "language_info": {
   "codemirror_mode": {
    "name": "ipython",
    "version": 3
   },
   "file_extension": ".py",
   "mimetype": "text/x-python",
   "name": "python",
   "nbconvert_exporter": "python",
   "pygments_lexer": "ipython3",
   "version": "3.11.3"
  }
 },
 "nbformat": 4,
 "nbformat_minor": 5
}
